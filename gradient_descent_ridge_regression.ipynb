{
  "nbformat": 4,
  "nbformat_minor": 0,
  "metadata": {
    "colab": {
      "name": "gradient_descent_ridge_regression.ipynb",
      "provenance": [],
      "collapsed_sections": []
    },
    "kernelspec": {
      "name": "python3",
      "display_name": "Python 3"
    }
  },
  "cells": [
    {
      "cell_type": "markdown",
      "metadata": {
        "id": "Ke4Xz-KOwgN7"
      },
      "source": [
        "# Gradient Descent Techniques for Rigde Regression \n",
        "## <div> Vassilis Panagakis </div>"
      ]
    },
    {
      "cell_type": "markdown",
      "metadata": {
        "id": "M3FXSevSDK_Z"
      },
      "source": [
        "# Load Data"
      ]
    },
    {
      "cell_type": "code",
      "metadata": {
        "id": "BFIYAye7wb86"
      },
      "source": [
        "import pandas as pd\n",
        "import numpy as np \n",
        "import matplotlib.pyplot as plt\n",
        "\n",
        "pd.options.mode.chained_assignment = None  # default='warn'"
      ],
      "execution_count": 1,
      "outputs": []
    },
    {
      "cell_type": "code",
      "metadata": {
        "id": "r3wPbb_GwiDl",
        "colab": {
          "base_uri": "https://localhost:8080/"
        },
        "outputId": "4b1cb54a-91db-4a3f-ce6d-b2e4c45623a8"
      },
      "source": [
        "from google.colab import drive \n",
        "drive.mount('/content/gdrive')"
      ],
      "execution_count": 2,
      "outputs": [
        {
          "output_type": "stream",
          "text": [
            "Mounted at /content/gdrive\n"
          ],
          "name": "stdout"
        }
      ]
    },
    {
      "cell_type": "markdown",
      "metadata": {
        "id": "sQR4gdo5n-lX"
      },
      "source": [
        "#### Create a dataframe from HousingData.csv file data"
      ]
    },
    {
      "cell_type": "code",
      "metadata": {
        "id": "yTIQaomsxNov",
        "colab": {
          "base_uri": "https://localhost:8080/",
          "height": 204
        },
        "outputId": "c73f23e9-fa04-45ab-f6ec-b3612236c464"
      },
      "source": [
        "housing=pd.read_csv('gdrive/My Drive/Colab Notebooks/HousingData.csv', usecols=['MedInc','HouseAge','AveRooms','AveBedrms','Population',\n",
        "                                                                               'AveOccup','Latitude','Longitude','Median House Value'])\n",
        "housing.head()"
      ],
      "execution_count": 3,
      "outputs": [
        {
          "output_type": "execute_result",
          "data": {
            "text/html": [
              "<div>\n",
              "<style scoped>\n",
              "    .dataframe tbody tr th:only-of-type {\n",
              "        vertical-align: middle;\n",
              "    }\n",
              "\n",
              "    .dataframe tbody tr th {\n",
              "        vertical-align: top;\n",
              "    }\n",
              "\n",
              "    .dataframe thead th {\n",
              "        text-align: right;\n",
              "    }\n",
              "</style>\n",
              "<table border=\"1\" class=\"dataframe\">\n",
              "  <thead>\n",
              "    <tr style=\"text-align: right;\">\n",
              "      <th></th>\n",
              "      <th>MedInc</th>\n",
              "      <th>HouseAge</th>\n",
              "      <th>AveRooms</th>\n",
              "      <th>AveBedrms</th>\n",
              "      <th>Population</th>\n",
              "      <th>AveOccup</th>\n",
              "      <th>Latitude</th>\n",
              "      <th>Longitude</th>\n",
              "      <th>Median House Value</th>\n",
              "    </tr>\n",
              "  </thead>\n",
              "  <tbody>\n",
              "    <tr>\n",
              "      <th>0</th>\n",
              "      <td>3.9816</td>\n",
              "      <td>27.0</td>\n",
              "      <td>4.928668</td>\n",
              "      <td>1.122476</td>\n",
              "      <td>3009.0</td>\n",
              "      <td>4.049798</td>\n",
              "      <td>33.73</td>\n",
              "      <td>-117.93</td>\n",
              "      <td>1.795</td>\n",
              "    </tr>\n",
              "    <tr>\n",
              "      <th>1</th>\n",
              "      <td>3.4531</td>\n",
              "      <td>23.0</td>\n",
              "      <td>4.021339</td>\n",
              "      <td>1.099338</td>\n",
              "      <td>2511.0</td>\n",
              "      <td>1.847682</td>\n",
              "      <td>34.14</td>\n",
              "      <td>-118.13</td>\n",
              "      <td>2.109</td>\n",
              "    </tr>\n",
              "    <tr>\n",
              "      <th>2</th>\n",
              "      <td>6.3942</td>\n",
              "      <td>4.0</td>\n",
              "      <td>5.681272</td>\n",
              "      <td>1.095774</td>\n",
              "      <td>5613.0</td>\n",
              "      <td>2.176425</td>\n",
              "      <td>37.78</td>\n",
              "      <td>-121.95</td>\n",
              "      <td>3.567</td>\n",
              "    </tr>\n",
              "    <tr>\n",
              "      <th>3</th>\n",
              "      <td>2.2243</td>\n",
              "      <td>32.0</td>\n",
              "      <td>5.685221</td>\n",
              "      <td>1.009597</td>\n",
              "      <td>1542.0</td>\n",
              "      <td>2.959693</td>\n",
              "      <td>38.69</td>\n",
              "      <td>-121.45</td>\n",
              "      <td>0.892</td>\n",
              "    </tr>\n",
              "    <tr>\n",
              "      <th>4</th>\n",
              "      <td>3.0217</td>\n",
              "      <td>9.0</td>\n",
              "      <td>5.006324</td>\n",
              "      <td>1.071146</td>\n",
              "      <td>3265.0</td>\n",
              "      <td>2.581028</td>\n",
              "      <td>37.69</td>\n",
              "      <td>-121.04</td>\n",
              "      <td>1.609</td>\n",
              "    </tr>\n",
              "  </tbody>\n",
              "</table>\n",
              "</div>"
            ],
            "text/plain": [
              "   MedInc  HouseAge  AveRooms  ...  Latitude  Longitude  Median House Value\n",
              "0  3.9816      27.0  4.928668  ...     33.73    -117.93               1.795\n",
              "1  3.4531      23.0  4.021339  ...     34.14    -118.13               2.109\n",
              "2  6.3942       4.0  5.681272  ...     37.78    -121.95               3.567\n",
              "3  2.2243      32.0  5.685221  ...     38.69    -121.45               0.892\n",
              "4  3.0217       9.0  5.006324  ...     37.69    -121.04               1.609\n",
              "\n",
              "[5 rows x 9 columns]"
            ]
          },
          "metadata": {
            "tags": []
          },
          "execution_count": 3
        }
      ]
    },
    {
      "cell_type": "markdown",
      "metadata": {
        "id": "nK9x-r76IeF4"
      },
      "source": [
        "## Split Data"
      ]
    },
    {
      "cell_type": "code",
      "metadata": {
        "id": "ihkdTxNaN9rl"
      },
      "source": [
        "X = housing.drop('Median House Value', axis=1) #dataframe to store train data without the labels\n",
        "y = housing[['Median House Value']] #dataframe to store train labels"
      ],
      "execution_count": 4,
      "outputs": []
    },
    {
      "cell_type": "code",
      "metadata": {
        "id": "C9xpNmMLN_BQ"
      },
      "source": [
        "from sklearn.model_selection import train_test_split\n",
        "\n",
        "#get train and test dataframes \n",
        "train_X, test_X, train_Y, test_Y = train_test_split(X, y, test_size=0.2, random_state = 42)"
      ],
      "execution_count": 5,
      "outputs": []
    },
    {
      "cell_type": "markdown",
      "metadata": {
        "id": "4qt2539dXho5"
      },
      "source": [
        "#### Display train and test sets after split"
      ]
    },
    {
      "cell_type": "code",
      "metadata": {
        "id": "WMWN90zG-H8P",
        "colab": {
          "base_uri": "https://localhost:8080/",
          "height": 204
        },
        "outputId": "52d82a8a-b1b9-4c0f-c527-8c28c5275997"
      },
      "source": [
        "train_X.head()"
      ],
      "execution_count": 6,
      "outputs": [
        {
          "output_type": "execute_result",
          "data": {
            "text/html": [
              "<div>\n",
              "<style scoped>\n",
              "    .dataframe tbody tr th:only-of-type {\n",
              "        vertical-align: middle;\n",
              "    }\n",
              "\n",
              "    .dataframe tbody tr th {\n",
              "        vertical-align: top;\n",
              "    }\n",
              "\n",
              "    .dataframe thead th {\n",
              "        text-align: right;\n",
              "    }\n",
              "</style>\n",
              "<table border=\"1\" class=\"dataframe\">\n",
              "  <thead>\n",
              "    <tr style=\"text-align: right;\">\n",
              "      <th></th>\n",
              "      <th>MedInc</th>\n",
              "      <th>HouseAge</th>\n",
              "      <th>AveRooms</th>\n",
              "      <th>AveBedrms</th>\n",
              "      <th>Population</th>\n",
              "      <th>AveOccup</th>\n",
              "      <th>Latitude</th>\n",
              "      <th>Longitude</th>\n",
              "    </tr>\n",
              "  </thead>\n",
              "  <tbody>\n",
              "    <tr>\n",
              "      <th>4520</th>\n",
              "      <td>1.8485</td>\n",
              "      <td>48.0</td>\n",
              "      <td>4.754386</td>\n",
              "      <td>1.315789</td>\n",
              "      <td>571.0</td>\n",
              "      <td>5.008772</td>\n",
              "      <td>34.02</td>\n",
              "      <td>-118.24</td>\n",
              "    </tr>\n",
              "    <tr>\n",
              "      <th>15799</th>\n",
              "      <td>4.0714</td>\n",
              "      <td>19.0</td>\n",
              "      <td>61.812500</td>\n",
              "      <td>11.000000</td>\n",
              "      <td>112.0</td>\n",
              "      <td>2.333333</td>\n",
              "      <td>39.01</td>\n",
              "      <td>-120.06</td>\n",
              "    </tr>\n",
              "    <tr>\n",
              "      <th>12738</th>\n",
              "      <td>4.2759</td>\n",
              "      <td>33.0</td>\n",
              "      <td>5.513120</td>\n",
              "      <td>0.973761</td>\n",
              "      <td>932.0</td>\n",
              "      <td>2.717201</td>\n",
              "      <td>33.81</td>\n",
              "      <td>-117.94</td>\n",
              "    </tr>\n",
              "    <tr>\n",
              "      <th>5196</th>\n",
              "      <td>4.0272</td>\n",
              "      <td>45.0</td>\n",
              "      <td>4.583721</td>\n",
              "      <td>1.020930</td>\n",
              "      <td>1245.0</td>\n",
              "      <td>2.895349</td>\n",
              "      <td>34.13</td>\n",
              "      <td>-118.24</td>\n",
              "    </tr>\n",
              "    <tr>\n",
              "      <th>11490</th>\n",
              "      <td>2.0368</td>\n",
              "      <td>37.0</td>\n",
              "      <td>5.662651</td>\n",
              "      <td>1.265060</td>\n",
              "      <td>522.0</td>\n",
              "      <td>6.289157</td>\n",
              "      <td>34.17</td>\n",
              "      <td>-119.11</td>\n",
              "    </tr>\n",
              "  </tbody>\n",
              "</table>\n",
              "</div>"
            ],
            "text/plain": [
              "       MedInc  HouseAge   AveRooms  ...  AveOccup  Latitude  Longitude\n",
              "4520   1.8485      48.0   4.754386  ...  5.008772     34.02    -118.24\n",
              "15799  4.0714      19.0  61.812500  ...  2.333333     39.01    -120.06\n",
              "12738  4.2759      33.0   5.513120  ...  2.717201     33.81    -117.94\n",
              "5196   4.0272      45.0   4.583721  ...  2.895349     34.13    -118.24\n",
              "11490  2.0368      37.0   5.662651  ...  6.289157     34.17    -119.11\n",
              "\n",
              "[5 rows x 8 columns]"
            ]
          },
          "metadata": {
            "tags": []
          },
          "execution_count": 6
        }
      ]
    },
    {
      "cell_type": "code",
      "metadata": {
        "id": "wA_o9gRW-MK3",
        "colab": {
          "base_uri": "https://localhost:8080/",
          "height": 204
        },
        "outputId": "60604c07-2c7e-487e-a85e-0822a166c222"
      },
      "source": [
        "test_X.head()"
      ],
      "execution_count": 7,
      "outputs": [
        {
          "output_type": "execute_result",
          "data": {
            "text/html": [
              "<div>\n",
              "<style scoped>\n",
              "    .dataframe tbody tr th:only-of-type {\n",
              "        vertical-align: middle;\n",
              "    }\n",
              "\n",
              "    .dataframe tbody tr th {\n",
              "        vertical-align: top;\n",
              "    }\n",
              "\n",
              "    .dataframe thead th {\n",
              "        text-align: right;\n",
              "    }\n",
              "</style>\n",
              "<table border=\"1\" class=\"dataframe\">\n",
              "  <thead>\n",
              "    <tr style=\"text-align: right;\">\n",
              "      <th></th>\n",
              "      <th>MedInc</th>\n",
              "      <th>HouseAge</th>\n",
              "      <th>AveRooms</th>\n",
              "      <th>AveBedrms</th>\n",
              "      <th>Population</th>\n",
              "      <th>AveOccup</th>\n",
              "      <th>Latitude</th>\n",
              "      <th>Longitude</th>\n",
              "    </tr>\n",
              "  </thead>\n",
              "  <tbody>\n",
              "    <tr>\n",
              "      <th>14911</th>\n",
              "      <td>4.9219</td>\n",
              "      <td>35.0</td>\n",
              "      <td>6.154062</td>\n",
              "      <td>0.988796</td>\n",
              "      <td>945.0</td>\n",
              "      <td>2.647059</td>\n",
              "      <td>32.82</td>\n",
              "      <td>-117.19</td>\n",
              "    </tr>\n",
              "    <tr>\n",
              "      <th>16468</th>\n",
              "      <td>4.5083</td>\n",
              "      <td>34.0</td>\n",
              "      <td>5.233010</td>\n",
              "      <td>0.995146</td>\n",
              "      <td>575.0</td>\n",
              "      <td>2.791262</td>\n",
              "      <td>33.85</td>\n",
              "      <td>-118.00</td>\n",
              "    </tr>\n",
              "    <tr>\n",
              "      <th>3550</th>\n",
              "      <td>2.5625</td>\n",
              "      <td>15.0</td>\n",
              "      <td>5.341463</td>\n",
              "      <td>1.045296</td>\n",
              "      <td>674.0</td>\n",
              "      <td>2.348432</td>\n",
              "      <td>38.75</td>\n",
              "      <td>-120.86</td>\n",
              "    </tr>\n",
              "    <tr>\n",
              "      <th>1547</th>\n",
              "      <td>3.1917</td>\n",
              "      <td>35.0</td>\n",
              "      <td>3.908759</td>\n",
              "      <td>1.058394</td>\n",
              "      <td>1412.0</td>\n",
              "      <td>5.153285</td>\n",
              "      <td>33.89</td>\n",
              "      <td>-118.08</td>\n",
              "    </tr>\n",
              "    <tr>\n",
              "      <th>11356</th>\n",
              "      <td>6.0308</td>\n",
              "      <td>38.0</td>\n",
              "      <td>5.857778</td>\n",
              "      <td>1.053333</td>\n",
              "      <td>547.0</td>\n",
              "      <td>2.431111</td>\n",
              "      <td>33.82</td>\n",
              "      <td>-118.38</td>\n",
              "    </tr>\n",
              "  </tbody>\n",
              "</table>\n",
              "</div>"
            ],
            "text/plain": [
              "       MedInc  HouseAge  AveRooms  ...  AveOccup  Latitude  Longitude\n",
              "14911  4.9219      35.0  6.154062  ...  2.647059     32.82    -117.19\n",
              "16468  4.5083      34.0  5.233010  ...  2.791262     33.85    -118.00\n",
              "3550   2.5625      15.0  5.341463  ...  2.348432     38.75    -120.86\n",
              "1547   3.1917      35.0  3.908759  ...  5.153285     33.89    -118.08\n",
              "11356  6.0308      38.0  5.857778  ...  2.431111     33.82    -118.38\n",
              "\n",
              "[5 rows x 8 columns]"
            ]
          },
          "metadata": {
            "tags": []
          },
          "execution_count": 7
        }
      ]
    },
    {
      "cell_type": "markdown",
      "metadata": {
        "id": "ZzDrAI8xXpzc"
      },
      "source": [
        "## Data Pre-processing"
      ]
    },
    {
      "cell_type": "code",
      "metadata": {
        "id": "jENZsOAt8jFv",
        "colab": {
          "base_uri": "https://localhost:8080/",
          "height": 204
        },
        "outputId": "1a27632b-bd3f-40b0-a1f9-ece2e27316b7"
      },
      "source": [
        "#standarize training set\n",
        "for label, content in train_X.items():\n",
        "    train_X[label] = train_X[label]/np.max(train_X[label])\n",
        "\n",
        "train_X.head()"
      ],
      "execution_count": 8,
      "outputs": [
        {
          "output_type": "execute_result",
          "data": {
            "text/html": [
              "<div>\n",
              "<style scoped>\n",
              "    .dataframe tbody tr th:only-of-type {\n",
              "        vertical-align: middle;\n",
              "    }\n",
              "\n",
              "    .dataframe tbody tr th {\n",
              "        vertical-align: top;\n",
              "    }\n",
              "\n",
              "    .dataframe thead th {\n",
              "        text-align: right;\n",
              "    }\n",
              "</style>\n",
              "<table border=\"1\" class=\"dataframe\">\n",
              "  <thead>\n",
              "    <tr style=\"text-align: right;\">\n",
              "      <th></th>\n",
              "      <th>MedInc</th>\n",
              "      <th>HouseAge</th>\n",
              "      <th>AveRooms</th>\n",
              "      <th>AveBedrms</th>\n",
              "      <th>Population</th>\n",
              "      <th>AveOccup</th>\n",
              "      <th>Latitude</th>\n",
              "      <th>Longitude</th>\n",
              "    </tr>\n",
              "  </thead>\n",
              "  <tbody>\n",
              "    <tr>\n",
              "      <th>4520</th>\n",
              "      <td>0.123233</td>\n",
              "      <td>0.923077</td>\n",
              "      <td>0.033503</td>\n",
              "      <td>0.038624</td>\n",
              "      <td>0.019989</td>\n",
              "      <td>0.008352</td>\n",
              "      <td>0.810965</td>\n",
              "      <td>1.032754</td>\n",
              "    </tr>\n",
              "    <tr>\n",
              "      <th>15799</th>\n",
              "      <td>0.271425</td>\n",
              "      <td>0.365385</td>\n",
              "      <td>0.435578</td>\n",
              "      <td>0.322896</td>\n",
              "      <td>0.003921</td>\n",
              "      <td>0.003891</td>\n",
              "      <td>0.929917</td>\n",
              "      <td>1.048651</td>\n",
              "    </tr>\n",
              "    <tr>\n",
              "      <th>12738</th>\n",
              "      <td>0.285058</td>\n",
              "      <td>0.634615</td>\n",
              "      <td>0.038850</td>\n",
              "      <td>0.028584</td>\n",
              "      <td>0.032626</td>\n",
              "      <td>0.004531</td>\n",
              "      <td>0.805959</td>\n",
              "      <td>1.030134</td>\n",
              "    </tr>\n",
              "    <tr>\n",
              "      <th>5196</th>\n",
              "      <td>0.268478</td>\n",
              "      <td>0.865385</td>\n",
              "      <td>0.032300</td>\n",
              "      <td>0.029969</td>\n",
              "      <td>0.043583</td>\n",
              "      <td>0.004828</td>\n",
              "      <td>0.813588</td>\n",
              "      <td>1.032754</td>\n",
              "    </tr>\n",
              "    <tr>\n",
              "      <th>11490</th>\n",
              "      <td>0.135786</td>\n",
              "      <td>0.711538</td>\n",
              "      <td>0.039903</td>\n",
              "      <td>0.037135</td>\n",
              "      <td>0.018273</td>\n",
              "      <td>0.010487</td>\n",
              "      <td>0.814541</td>\n",
              "      <td>1.040353</td>\n",
              "    </tr>\n",
              "  </tbody>\n",
              "</table>\n",
              "</div>"
            ],
            "text/plain": [
              "         MedInc  HouseAge  AveRooms  ...  AveOccup  Latitude  Longitude\n",
              "4520   0.123233  0.923077  0.033503  ...  0.008352  0.810965   1.032754\n",
              "15799  0.271425  0.365385  0.435578  ...  0.003891  0.929917   1.048651\n",
              "12738  0.285058  0.634615  0.038850  ...  0.004531  0.805959   1.030134\n",
              "5196   0.268478  0.865385  0.032300  ...  0.004828  0.813588   1.032754\n",
              "11490  0.135786  0.711538  0.039903  ...  0.010487  0.814541   1.040353\n",
              "\n",
              "[5 rows x 8 columns]"
            ]
          },
          "metadata": {
            "tags": []
          },
          "execution_count": 8
        }
      ]
    },
    {
      "cell_type": "code",
      "metadata": {
        "id": "3VMIoWf49T7n",
        "colab": {
          "base_uri": "https://localhost:8080/",
          "height": 204
        },
        "outputId": "0aa4837f-e027-4291-990a-e407257d1d32"
      },
      "source": [
        "#standarize test set\n",
        "for label, content in test_X.items():\n",
        "    test_X[label] = test_X[label]/np.max(test_X[label])\n",
        "\n",
        "test_X.head()"
      ],
      "execution_count": 9,
      "outputs": [
        {
          "output_type": "execute_result",
          "data": {
            "text/html": [
              "<div>\n",
              "<style scoped>\n",
              "    .dataframe tbody tr th:only-of-type {\n",
              "        vertical-align: middle;\n",
              "    }\n",
              "\n",
              "    .dataframe tbody tr th {\n",
              "        vertical-align: top;\n",
              "    }\n",
              "\n",
              "    .dataframe thead th {\n",
              "        text-align: right;\n",
              "    }\n",
              "</style>\n",
              "<table border=\"1\" class=\"dataframe\">\n",
              "  <thead>\n",
              "    <tr style=\"text-align: right;\">\n",
              "      <th></th>\n",
              "      <th>MedInc</th>\n",
              "      <th>HouseAge</th>\n",
              "      <th>AveRooms</th>\n",
              "      <th>AveBedrms</th>\n",
              "      <th>Population</th>\n",
              "      <th>AveOccup</th>\n",
              "      <th>Latitude</th>\n",
              "      <th>Longitude</th>\n",
              "    </tr>\n",
              "  </thead>\n",
              "  <tbody>\n",
              "    <tr>\n",
              "      <th>14911</th>\n",
              "      <td>0.328124</td>\n",
              "      <td>0.673077</td>\n",
              "      <td>0.102782</td>\n",
              "      <td>0.064574</td>\n",
              "      <td>0.026484</td>\n",
              "      <td>0.002129</td>\n",
              "      <td>0.782360</td>\n",
              "      <td>1.022868</td>\n",
              "    </tr>\n",
              "    <tr>\n",
              "      <th>16468</th>\n",
              "      <td>0.300551</td>\n",
              "      <td>0.653846</td>\n",
              "      <td>0.087399</td>\n",
              "      <td>0.064989</td>\n",
              "      <td>0.016115</td>\n",
              "      <td>0.002245</td>\n",
              "      <td>0.806913</td>\n",
              "      <td>1.029938</td>\n",
              "    </tr>\n",
              "    <tr>\n",
              "      <th>3550</th>\n",
              "      <td>0.170832</td>\n",
              "      <td>0.288462</td>\n",
              "      <td>0.089210</td>\n",
              "      <td>0.068264</td>\n",
              "      <td>0.018889</td>\n",
              "      <td>0.001889</td>\n",
              "      <td>0.923719</td>\n",
              "      <td>1.054901</td>\n",
              "    </tr>\n",
              "    <tr>\n",
              "      <th>1547</th>\n",
              "      <td>0.212779</td>\n",
              "      <td>0.673077</td>\n",
              "      <td>0.065282</td>\n",
              "      <td>0.069120</td>\n",
              "      <td>0.039572</td>\n",
              "      <td>0.004145</td>\n",
              "      <td>0.807867</td>\n",
              "      <td>1.030636</td>\n",
              "    </tr>\n",
              "    <tr>\n",
              "      <th>11356</th>\n",
              "      <td>0.402051</td>\n",
              "      <td>0.730769</td>\n",
              "      <td>0.097833</td>\n",
              "      <td>0.068789</td>\n",
              "      <td>0.015330</td>\n",
              "      <td>0.001955</td>\n",
              "      <td>0.806198</td>\n",
              "      <td>1.033255</td>\n",
              "    </tr>\n",
              "  </tbody>\n",
              "</table>\n",
              "</div>"
            ],
            "text/plain": [
              "         MedInc  HouseAge  AveRooms  ...  AveOccup  Latitude  Longitude\n",
              "14911  0.328124  0.673077  0.102782  ...  0.002129  0.782360   1.022868\n",
              "16468  0.300551  0.653846  0.087399  ...  0.002245  0.806913   1.029938\n",
              "3550   0.170832  0.288462  0.089210  ...  0.001889  0.923719   1.054901\n",
              "1547   0.212779  0.673077  0.065282  ...  0.004145  0.807867   1.030636\n",
              "11356  0.402051  0.730769  0.097833  ...  0.001955  0.806198   1.033255\n",
              "\n",
              "[5 rows x 8 columns]"
            ]
          },
          "metadata": {
            "tags": []
          },
          "execution_count": 9
        }
      ]
    },
    {
      "cell_type": "code",
      "metadata": {
        "id": "WeSRNeqxsYvU"
      },
      "source": [
        "#create numpy arrays for train and test sets\n",
        "train_x = train_X.values\n",
        "test_x = test_X.values"
      ],
      "execution_count": 10,
      "outputs": []
    },
    {
      "cell_type": "code",
      "metadata": {
        "id": "YxYv1nMEuBJK"
      },
      "source": [
        "#add a bias to the data\n",
        "train_x = np.hstack((np.ones((train_x.shape[0], 1)), train_x)) \n",
        "test_x = np.hstack((np.ones((test_x.shape[0], 1)), test_x)) "
      ],
      "execution_count": 11,
      "outputs": []
    },
    {
      "cell_type": "code",
      "metadata": {
        "id": "JqDLqq_ZvMKR"
      },
      "source": [
        "#create numpy arrays for sets' labels\n",
        "train_y = train_Y.values\n",
        "train_y = train_y.reshape(-1, 1)\n",
        "\n",
        "test_y = test_Y.values\n",
        "test_y = test_y.reshape(-1, 1)"
      ],
      "execution_count": 12,
      "outputs": []
    },
    {
      "cell_type": "markdown",
      "metadata": {
        "id": "E75uInuyHwvm"
      },
      "source": [
        "# CLASSIFICATION"
      ]
    },
    {
      "cell_type": "markdown",
      "metadata": {
        "id": "f_va2Ie17CGM"
      },
      "source": [
        "## Gradient Descent"
      ]
    },
    {
      "cell_type": "markdown",
      "metadata": {
        "id": "2KkKVjO5Jv39"
      },
      "source": [
        "**source:** https://www.geeksforgeeks.org/ml-mini-batch-gradient-descent-with-python/"
      ]
    },
    {
      "cell_type": "code",
      "metadata": {
        "id": "HnKLX2HKsKv5"
      },
      "source": [
        "# linear regression using \"mini-batch\" gradient descent \n",
        "# function to compute hypothesis / predictions \n",
        "def hypothesis(X, theta):\n",
        "  return np.dot(X, theta) \n",
        "\n",
        "# function to compute gradient of error function w.r.t. theta \n",
        "def gradient(X, y, theta): \n",
        "  h = hypothesis(X, theta) \n",
        "  grad = np.dot(X.transpose(), (h - y)) \n",
        "  return grad \n",
        "\n",
        "# function to compute the error for current values of theta \n",
        "def cost(X, y, theta): \n",
        "  h = hypothesis(X, theta) \n",
        "  J = np.dot((h - y).transpose(), (h - y)) \n",
        "  J /= 2\n",
        "  return J[0] \n",
        "\n",
        "# function to create a list containing mini-batches \n",
        "def create_mini_batches(X, y, batch_size): \n",
        "  mini_batches = [] \n",
        "  data = np.hstack((X, y)) \n",
        "  np.random.shuffle(data) \n",
        "  n_minibatches = data.shape[0] // batch_size \n",
        "  \n",
        "  i = 0\n",
        "  for i in range(n_minibatches + 1): \n",
        "    mini_batch = data[i * batch_size:(i + 1)*batch_size, :] \n",
        "    X_mini = mini_batch[:, :-1] \n",
        "    Y_mini = mini_batch[:, -1].reshape((-1, 1)) \n",
        "    mini_batches.append((X_mini, Y_mini)) \n",
        "  if data.shape[0] % batch_size != 0: \n",
        "    mini_batch = data[i * batch_size:data.shape[0]] \n",
        "    X_mini = mini_batch[:, :-1] \n",
        "    Y_mini = mini_batch[:, -1].reshape((-1, 1)) \n",
        "    mini_batches.append((X_mini, Y_mini)) \n",
        "  return mini_batches \n",
        "\n",
        "# function to perform mini-batch gradient descent \n",
        "def gradientDescent(X, y, learning_rate = 0.01, max_iters = 1000, batch_size = 1): \n",
        "  theta = np.zeros((X.shape[1], 1)) \n",
        "  # error_list = [] \n",
        "  error_list = np.zeros(max_iters)\n",
        "  for itr in range(max_iters): \n",
        "    total_cost = 0.0\n",
        "    mini_batches = create_mini_batches(X, y, batch_size) \n",
        "    for mini_batch in mini_batches:\n",
        "      X_mini, y_mini = mini_batch \n",
        "      grad = gradient(X_mini, y_mini, theta)\n",
        "      theta = theta - learning_rate * grad \n",
        "      c = cost(X_mini, y_mini, theta)\n",
        "      if(c[0] != 0):\n",
        "        total_cost += c\n",
        "    error_list[itr] = total_cost\n",
        "\n",
        "  return theta, error_list "
      ],
      "execution_count": 13,
      "outputs": []
    },
    {
      "cell_type": "code",
      "metadata": {
        "id": "Ax7aEjCa6Q4r"
      },
      "source": [
        "# function that creates the plot of Cost/MSE per iteration\n",
        "def JPerIteration(iters, error_list, title):\n",
        "  fig,ax = plt.subplots(figsize=(10,6))\n",
        "\n",
        "  ax.set_title(title, size=20)\n",
        "  ax.set_ylabel('Cost/MSE', size=20)\n",
        "  ax.set_xlabel('Iterations', size=20)\n",
        "  _=ax.plot(range(iters), error_list, 'b.')"
      ],
      "execution_count": 14,
      "outputs": []
    },
    {
      "cell_type": "markdown",
      "metadata": {
        "id": "ow2NvKF5PKWe"
      },
      "source": [
        "## Full-Batch Gradient Descent"
      ]
    },
    {
      "cell_type": "code",
      "metadata": {
        "id": "7L9QomNFmmRc"
      },
      "source": [
        "lr_fbgd = 0.00004 #learning rate\n",
        "iters_fbgd = 800  #iterations"
      ],
      "execution_count": 15,
      "outputs": []
    },
    {
      "cell_type": "code",
      "metadata": {
        "id": "0ouOvDK_uklK",
        "colab": {
          "base_uri": "https://localhost:8080/"
        },
        "outputId": "39b2e9a2-8b91-447c-836c-a0d1f4d4d4fb"
      },
      "source": [
        "from sklearn import metrics\n",
        "\n",
        "theta_fbgd, err_list_fbgd = gradientDescent(train_x, train_y, learning_rate=lr_fbgd, max_iters=iters_fbgd, batch_size=train_x.shape[0]) \n",
        "\n",
        "y_pred_fbgd = hypothesis(test_x, theta_fbgd) #prediction on test set \n",
        "\n",
        "#R^2 is a better metric for presentation purposes but it doesn't take into considaration the overfitting problem\n",
        "r2_fbgd = \"%.3f%%\" % (metrics.r2_score(test_y, y_pred_fbgd) * 100) \n",
        "\n",
        "print(\"R^2 = \", r2_fbgd)"
      ],
      "execution_count": 16,
      "outputs": [
        {
          "output_type": "stream",
          "text": [
            "R^2 =  50.334%\n"
          ],
          "name": "stdout"
        }
      ]
    },
    {
      "cell_type": "code",
      "metadata": {
        "id": "B3ad6cupHx_n",
        "colab": {
          "base_uri": "https://localhost:8080/"
        },
        "outputId": "f37ddf48-3f2b-42e9-bf4d-426fe82d5661"
      },
      "source": [
        "#Root Mean Square Error(RMSE) is a good metric to compare performance between different regression model\n",
        "mse_fbgd = metrics.mean_squared_error(test_y, y_pred_fbgd)\n",
        "mse_fbgd = np.sqrt(mse_fbgd)\n",
        "mse_fbgd = \"%.3f\" % mse_fbgd\n",
        "\n",
        "print(\"RMSE = \", mse_fbgd)"
      ],
      "execution_count": 17,
      "outputs": [
        {
          "output_type": "stream",
          "text": [
            "RMSE =  0.816\n"
          ],
          "name": "stdout"
        }
      ]
    },
    {
      "cell_type": "code",
      "metadata": {
        "id": "3gSl7qNxay1A",
        "colab": {
          "base_uri": "https://localhost:8080/"
        },
        "outputId": "2de7354e-11f0-4ba1-83db-86748adbf47c"
      },
      "source": [
        "print('Theta0:          {:0.3f}\\nTheta1:          {:0.3f}'.format(theta_fbgd[0][0],theta_fbgd[1][0]))\n",
        "print('Final cost/MSE:  {:0.3f}'.format(err_list_fbgd[-1]))"
      ],
      "execution_count": 18,
      "outputs": [
        {
          "output_type": "stream",
          "text": [
            "Theta0:          0.385\n",
            "Theta1:          6.409\n",
            "Final cost/MSE:  4226.668\n"
          ],
          "name": "stdout"
        }
      ]
    },
    {
      "cell_type": "code",
      "metadata": {
        "id": "igX-_VVp6Clw",
        "colab": {
          "base_uri": "https://localhost:8080/",
          "height": 418
        },
        "outputId": "f05ce80b-2ce6-4081-cbd4-d158217310c0"
      },
      "source": [
        "JPerIteration(iters_fbgd, err_list_fbgd, 'Full-Batch Gradient Descent')"
      ],
      "execution_count": 19,
      "outputs": [
        {
          "output_type": "display_data",
          "data": {
            "image/png": "[encoded data removed]",
            "text/plain": [
              "<Figure size 720x432 with 1 Axes>"
            ]
          },
          "metadata": {
            "tags": [],
            "needs_background": "light"
          }
        }
      ]
    },
    {
      "cell_type": "markdown",
      "metadata": {
        "id": "YJmEmC8tkWQ2"
      },
      "source": [
        "**The execution of the Full-Batch Gradient model is fast, because the whole training set is fitted at once, turning the complexity of the nested loop to O(1). We notice, that after around 450 iterations the cost is almost flat so the remaining iterations are not needed, because they will not result in any further optimization. We can see this clearly if we zoom the plot until iteration 450.**"
      ]
    },
    {
      "cell_type": "code",
      "metadata": {
        "id": "1P5LYeklkVtC",
        "colab": {
          "base_uri": "https://localhost:8080/",
          "height": 418
        },
        "outputId": "1e79dea9-14c0-460c-9373-8623e4a8c4dc"
      },
      "source": [
        "JPerIteration(450, err_list_fbgd[:450], 'Full-Batch Gradient Descent')"
      ],
      "execution_count": 20,
      "outputs": [
        {
          "output_type": "display_data",
          "data": {
            "image/png": "[encoded data removed]",
            "text/plain": [
              "<Figure size 720x432 with 1 Axes>"
            ]
          },
          "metadata": {
            "tags": [],
            "needs_background": "light"
          }
        }
      ]
    },
    {
      "cell_type": "markdown",
      "metadata": {
        "id": "KQOdiDbNehxh"
      },
      "source": [
        "## Stochastic Gradient Descent"
      ]
    },
    {
      "cell_type": "code",
      "metadata": {
        "id": "F-zsOVnx6zpg"
      },
      "source": [
        "lr_sgd = 0.001    #learning rate\n",
        "iters_sgd = 1200  #iterations"
      ],
      "execution_count": 21,
      "outputs": []
    },
    {
      "cell_type": "code",
      "metadata": {
        "id": "aIlhYaOp6zpk",
        "colab": {
          "base_uri": "https://localhost:8080/"
        },
        "outputId": "f921f4a0-ca5f-44a9-fbb4-37641f309de7"
      },
      "source": [
        "theta_sgd, err_list_sgd = gradientDescent(train_x, train_y, learning_rate=lr_sgd, max_iters=iters_sgd, batch_size=1) \n",
        "\n",
        "y_pred_sgd = hypothesis(test_x, theta_sgd) #prediction on test set \n",
        "\n",
        "#R^2 is a better metric for presentation purposes but it doesn't take into considaration the overfitting problem\n",
        "r2_sgd = \"%.3f%%\" % (metrics.r2_score(test_y, y_pred_sgd) * 100) \n",
        "\n",
        "print(\"R^2 = \", r2_sgd)"
      ],
      "execution_count": 22,
      "outputs": [
        {
          "output_type": "stream",
          "text": [
            "R^2 =  54.588%\n"
          ],
          "name": "stdout"
        }
      ]
    },
    {
      "cell_type": "code",
      "metadata": {
        "id": "Q6fiZZAgO6YK",
        "colab": {
          "base_uri": "https://localhost:8080/"
        },
        "outputId": "d1043f9e-0621-4e07-bfa4-a9ec27180988"
      },
      "source": [
        "#Root Mean Square Error(RMSE) is a good metric to compare performance between different regression model\n",
        "mse_sgd = metrics.mean_squared_error(test_y, y_pred_sgd)\n",
        "mse_sgd = np.sqrt(mse_sgd)\n",
        "mse_sgd = \"%.3f\" % mse_sgd\n",
        "\n",
        "print(\"RMSE = \", mse_sgd)"
      ],
      "execution_count": 23,
      "outputs": [
        {
          "output_type": "stream",
          "text": [
            "RMSE =  0.780\n"
          ],
          "name": "stdout"
        }
      ]
    },
    {
      "cell_type": "code",
      "metadata": {
        "id": "BzAztvmX6syl",
        "colab": {
          "base_uri": "https://localhost:8080/"
        },
        "outputId": "8ef54400-e656-4b8c-ad8b-d5ba57651da5"
      },
      "source": [
        "print('Theta0:          {:0.3f}\\nTheta1:          {:0.3f}'.format(theta_sgd[0][0],theta_sgd[1][0]))\n",
        "print('Final cost/MSE:  {:0.3f}'.format(err_list_sgd[-1]))"
      ],
      "execution_count": 24,
      "outputs": [
        {
          "output_type": "stream",
          "text": [
            "Theta0:          -10.347\n",
            "Theta1:          6.454\n",
            "Final cost/MSE:  3783.909\n"
          ],
          "name": "stdout"
        }
      ]
    },
    {
      "cell_type": "code",
      "metadata": {
        "id": "hryY0Wvu6syp",
        "colab": {
          "base_uri": "https://localhost:8080/",
          "height": 418
        },
        "outputId": "665ffdfe-a436-46c4-96fd-cc5ae099d6a3"
      },
      "source": [
        "JPerIteration(iters_sgd, err_list_sgd, 'Stochastic Gradient Descent')"
      ],
      "execution_count": 25,
      "outputs": [
        {
          "output_type": "display_data",
          "data": {
            "image/png": "[encoded data removed]",
            "text/plain": [
              "<Figure size 720x432 with 1 Axes>"
            ]
          },
          "metadata": {
            "tags": [],
            "needs_background": "light"
          }
        }
      ]
    },
    {
      "cell_type": "markdown",
      "metadata": {
        "id": "R9-PGmIPl1Jh"
      },
      "source": [
        "**We observe that the Stochastic Gradient Descent model produces a better R^2 score than the Full-Batch Gradient Descent one. Yet, after 1200 iterations the cost is not flat and it would need even more iterations to converge to a minimum. Moreover, it clearly needs much more time to conclude its execution, because of the use of the minimum batch size (=1). <br>\n",
        "We conclude, that if we are more interested in prediction accuracy we should select the Stochastic Gradient Descent model, but if we care for fast and decent results the Full-Batch Gradient Descent model is more preferable.**"
      ]
    },
    {
      "cell_type": "markdown",
      "metadata": {
        "id": "2mhB5BsRRNSx"
      },
      "source": [
        "## Mini-Batch Gradient Descent"
      ]
    },
    {
      "cell_type": "code",
      "metadata": {
        "id": "YIplBAjo7r7e"
      },
      "source": [
        "lr_mbgd = 0.001    #learning rate\n",
        "iters_mbgd = 1000 #iterations\n",
        "batch_mbgd = 10   #batch size"
      ],
      "execution_count": 26,
      "outputs": []
    },
    {
      "cell_type": "code",
      "metadata": {
        "id": "nAIEPj387r7p",
        "colab": {
          "base_uri": "https://localhost:8080/"
        },
        "outputId": "3ef7e703-b831-4e91-a554-eec2e68a0716"
      },
      "source": [
        "theta_mbgd, err_list_mbgd = gradientDescent(train_x, train_y, learning_rate=lr_mbgd, max_iters=iters_mbgd, batch_size=batch_mbgd) \n",
        "\n",
        "y_pred_mbgd = hypothesis(test_x, theta_mbgd) #prediction on test set \n",
        "\n",
        "#R^2 is a better metric for presentation purposes but it doesn't take into considaration the overfitting problem\n",
        "r2_mbgd = \"%.3f%%\" % (metrics.r2_score(test_y, y_pred_mbgd) * 100) \n",
        "\n",
        "print(\"R^2 = \", r2_mbgd)"
      ],
      "execution_count": 27,
      "outputs": [
        {
          "output_type": "stream",
          "text": [
            "R^2 =  55.147%\n"
          ],
          "name": "stdout"
        }
      ]
    },
    {
      "cell_type": "code",
      "metadata": {
        "id": "W46TgSM3OxBA",
        "colab": {
          "base_uri": "https://localhost:8080/"
        },
        "outputId": "32ae538b-fcc6-4b84-f8d5-04660293d6a8"
      },
      "source": [
        "#Root Mean Square Error(RMSE) is a good metric to compare performance between different regression model\n",
        "mse_mbgd = metrics.mean_squared_error(test_y, y_pred_mbgd)\n",
        "mse_mbgd = np.sqrt(mse_mbgd)\n",
        "mse_mbgd = \"%.3f\" % mse_mbgd\n",
        "\n",
        "print(\"RMSE = \", mse_mbgd)"
      ],
      "execution_count": 28,
      "outputs": [
        {
          "output_type": "stream",
          "text": [
            "RMSE =  0.775\n"
          ],
          "name": "stdout"
        }
      ]
    },
    {
      "cell_type": "code",
      "metadata": {
        "id": "3P5s5xIX7r78",
        "colab": {
          "base_uri": "https://localhost:8080/"
        },
        "outputId": "7a500d0c-e75d-4d48-bb70-84261e744245"
      },
      "source": [
        "print('Theta0:          {:0.3f}\\nTheta1:          {:0.3f}'.format(theta_mbgd[0][0],theta_mbgd[1][0]))\n",
        "print('Final cost/MSE:  {:0.3f}'.format(err_list_mbgd[-1]))"
      ],
      "execution_count": 29,
      "outputs": [
        {
          "output_type": "stream",
          "text": [
            "Theta0:          -8.654\n",
            "Theta1:          6.450\n",
            "Final cost/MSE:  3833.025\n"
          ],
          "name": "stdout"
        }
      ]
    },
    {
      "cell_type": "code",
      "metadata": {
        "id": "4gSc5rON7r8G",
        "colab": {
          "base_uri": "https://localhost:8080/",
          "height": 418
        },
        "outputId": "a3eedc29-e63a-4eec-d935-6a57b8c23529"
      },
      "source": [
        "JPerIteration(iters_mbgd, err_list_mbgd, 'Mini-Batch Gradient Descent')"
      ],
      "execution_count": 30,
      "outputs": [
        {
          "output_type": "display_data",
          "data": {
            "image/png": "[encoded data removed]",
            "text/plain": [
              "<Figure size 720x432 with 1 Axes>"
            ]
          },
          "metadata": {
            "tags": [],
            "needs_background": "light"
          }
        }
      ]
    },
    {
      "cell_type": "markdown",
      "metadata": {
        "id": "rvtutbV71LyI"
      },
      "source": [
        "**We observe that the Mini-Batch Gradient Descent (with batch size = 10) model is slightly slower than the Full-Batch Gradient Descent model and much faster than the Stochastic Gradient Descent one. We also notice that it produces a better R^2 score than the Full-Batch Gradient Descent and a very close one to the Stochastic Gradient Descent. <br>\n",
        "We conclude, that if we find the proper batch size, the Mini-Batch Gradient Descent model is the best solution in terms of a very satisfactory prediction accuracy and a fast execution time, compared to the other 2 models, of which each thrives in only one of the 2 domains.**"
      ]
    }
  ]
}